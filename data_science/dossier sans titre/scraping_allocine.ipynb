{
  "cells": [
    {
      "cell_type": "markdown",
      "metadata": {},
      "source": [
        "# Scraping des données Allociné\n",
        "\n",
        "Ce notebook récupère et analyse des informations sur les acteurs d’un film depuis Allociné.  \n",
        "Les étapes principales incluent :\n",
        "1. Extraction des liens des acteurs depuis la page de casting.\n",
        "2. Scraping des pages individuelles pour récupérer les dates de naissance.\n",
        "3. Conversion des dates et calcul de l’âge des acteurs (année de référence : 2014).\n",
        "\n",
        "Les bibliothèques utilisées : **BeautifulSoup**, **Requests**, **Pandas**, **re**, **Datetime**.  \n",
        "Le résultat final est un tableau structuré avec noms, liens, dates de naissance et âges."
      ]
    },
    {
      "cell_type": "code",
      "execution_count": 1,
      "metadata": {
        "id": "MUnIzd2mvhwO"
      },
      "outputs": [],
      "source": [
        "# Importation des bibliothèques nécessaires\n",
        "from bs4 import BeautifulSoup  # Pour extraire les données du HTML\n",
        "import requests  # Pour envoyer des requêtes HTTP et récupérer le contenu des pages\n",
        "import pandas as pd  # Pour organiser les données sous forme de tableau\n",
        "import re  # Pour la gestion des expressions régulières (non utilisé ici mais importé)\n",
        "from datetime import datetime  # Pour manipuler des dates (non utilisé ici mais importé)"
      ]
    },
    {
      "cell_type": "code",
      "execution_count": 2,
      "metadata": {
        "id": "YQ6x5s5Wvm-r"
      },
      "outputs": [],
      "source": [
        "# URL de la page du film sur Allociné\n",
        "url = \"https://www.allocine.fr/film/fichefilm-114782/casting/\"\n",
        "\n",
        "# Envoi de la requête et récupération de la page HTML\n",
        "html = requests.get(url)\n",
        "\n",
        "# Analyse du contenu HTML avec BeautifulSoup\n",
        "soup = BeautifulSoup(html.text, 'html.parser')\n",
        "\n",
        "# Extraction de la section contenant les acteurs\n",
        "soup_actors = soup.find('section', {\"class\": \"section casting-actor\"})\n",
        "\n",
        "# Récupération des liens des acteurs\n",
        "links = soup_actors.find_all('a')"
      ]
    },
    {
      "cell_type": "code",
      "execution_count": 3,
      "metadata": {
        "colab": {
          "base_uri": "https://localhost:8080/"
        },
        "id": "TEiSLVYXwphe",
        "outputId": "6a49e993-d4e3-4e79-9ee8-4e6321e93ef2"
      },
      "outputs": [
        {
          "name": "stdout",
          "output_type": "stream",
          "text": [
            "Matthew McConaughey\n",
            "/personne/fichepersonne_gen_cpersonne=19334.html\n"
          ]
        }
      ],
      "source": [
        "# Affichage d'un exemple de lien\n",
        "print(links[0].text)  # Affiche le nom de l'acteur\n",
        "print(links[0]['href'])  # Affiche le lien vers la page de l'acteur"
      ]
    },
    {
      "cell_type": "code",
      "execution_count": 4,
      "metadata": {
        "colab": {
          "base_uri": "https://localhost:8080/",
          "height": 762
        },
        "id": "Vp1tgus7yAzn",
        "outputId": "9c84a746-bfdb-4eb8-93f7-b52b615dcbac"
      },
      "outputs": [
        {
          "data": {
            "text/html": [
              "<div>\n",
              "<style scoped>\n",
              "    .dataframe tbody tr th:only-of-type {\n",
              "        vertical-align: middle;\n",
              "    }\n",
              "\n",
              "    .dataframe tbody tr th {\n",
              "        vertical-align: top;\n",
              "    }\n",
              "\n",
              "    .dataframe thead th {\n",
              "        text-align: right;\n",
              "    }\n",
              "</style>\n",
              "<table border=\"1\" class=\"dataframe\">\n",
              "  <thead>\n",
              "    <tr style=\"text-align: right;\">\n",
              "      <th></th>\n",
              "      <th>actor</th>\n",
              "      <th>href</th>\n",
              "    </tr>\n",
              "  </thead>\n",
              "  <tbody>\n",
              "    <tr>\n",
              "      <th>0</th>\n",
              "      <td>Matthew McConaughey</td>\n",
              "      <td>/personne/fichepersonne_gen_cpersonne=19334.html</td>\n",
              "    </tr>\n",
              "    <tr>\n",
              "      <th>1</th>\n",
              "      <td>Anne Hathaway</td>\n",
              "      <td>/personne/fichepersonne_gen_cpersonne=65719.html</td>\n",
              "    </tr>\n",
              "    <tr>\n",
              "      <th>2</th>\n",
              "      <td>Michael Caine</td>\n",
              "      <td>/personne/fichepersonne_gen_cpersonne=2535.html</td>\n",
              "    </tr>\n",
              "    <tr>\n",
              "      <th>3</th>\n",
              "      <td>John Lithgow</td>\n",
              "      <td>/personne/fichepersonne_gen_cpersonne=5293.html</td>\n",
              "    </tr>\n",
              "    <tr>\n",
              "      <th>4</th>\n",
              "      <td>Jessica Chastain</td>\n",
              "      <td>/personne/fichepersonne_gen_cpersonne=117304.html</td>\n",
              "    </tr>\n",
              "    <tr>\n",
              "      <th>5</th>\n",
              "      <td>Casey Affleck</td>\n",
              "      <td>/personne/fichepersonne_gen_cpersonne=1196.html</td>\n",
              "    </tr>\n",
              "    <tr>\n",
              "      <th>6</th>\n",
              "      <td>Mackenzie Foy</td>\n",
              "      <td>/personne/fichepersonne_gen_cpersonne=487728.html</td>\n",
              "    </tr>\n",
              "    <tr>\n",
              "      <th>7</th>\n",
              "      <td>Wes Bentley</td>\n",
              "      <td>/personne/fichepersonne_gen_cpersonne=35000.html</td>\n",
              "    </tr>\n",
              "    <tr>\n",
              "      <th>8</th>\n",
              "      <td>David Gyasi</td>\n",
              "      <td>/personne/fichepersonne_gen_cpersonne=205411.html</td>\n",
              "    </tr>\n",
              "    <tr>\n",
              "      <th>9</th>\n",
              "      <td>Timothée Chalamet</td>\n",
              "      <td>/personne/fichepersonne_gen_cpersonne=525421.html</td>\n",
              "    </tr>\n",
              "    <tr>\n",
              "      <th>10</th>\n",
              "      <td>Topher Grace</td>\n",
              "      <td>/personne/fichepersonne_gen_cpersonne=46687.html</td>\n",
              "    </tr>\n",
              "    <tr>\n",
              "      <th>11</th>\n",
              "      <td>David Oyelowo</td>\n",
              "      <td>/personne/fichepersonne_gen_cpersonne=126702.html</td>\n",
              "    </tr>\n",
              "    <tr>\n",
              "      <th>12</th>\n",
              "      <td>Collette Wolfe</td>\n",
              "      <td>/personne/fichepersonne_gen_cpersonne=213268.html</td>\n",
              "    </tr>\n",
              "    <tr>\n",
              "      <th>13</th>\n",
              "      <td>Leah Cairns</td>\n",
              "      <td>/personne/fichepersonne_gen_cpersonne=116250.html</td>\n",
              "    </tr>\n",
              "    <tr>\n",
              "      <th>14</th>\n",
              "      <td>William Devane</td>\n",
              "      <td>/personne/fichepersonne_gen_cpersonne=24956.html</td>\n",
              "    </tr>\n",
              "    <tr>\n",
              "      <th>15</th>\n",
              "      <td>Ellen Burstyn</td>\n",
              "      <td>/personne/fichepersonne_gen_cpersonne=699.html</td>\n",
              "    </tr>\n",
              "    <tr>\n",
              "      <th>16</th>\n",
              "      <td>Matt Damon</td>\n",
              "      <td>/personne/fichepersonne_gen_cpersonne=1192.html</td>\n",
              "    </tr>\n",
              "    <tr>\n",
              "      <th>17</th>\n",
              "      <td>Elyes Gabel</td>\n",
              "      <td>/personne/fichepersonne_gen_cpersonne=241087.html</td>\n",
              "    </tr>\n",
              "    <tr>\n",
              "      <th>18</th>\n",
              "      <td>Francis X. McCarthy</td>\n",
              "      <td>/personne/fichepersonne_gen_cpersonne=81745.html</td>\n",
              "    </tr>\n",
              "    <tr>\n",
              "      <th>19</th>\n",
              "      <td>Andrew Borba</td>\n",
              "      <td>/personne/fichepersonne_gen_cpersonne=116363.html</td>\n",
              "    </tr>\n",
              "    <tr>\n",
              "      <th>20</th>\n",
              "      <td>Lena Georgas</td>\n",
              "      <td>/personne/fichepersonne_gen_cpersonne=114113.html</td>\n",
              "    </tr>\n",
              "    <tr>\n",
              "      <th>21</th>\n",
              "      <td>Jeff Hephner</td>\n",
              "      <td>/personne/fichepersonne_gen_cpersonne=61629.html</td>\n",
              "    </tr>\n",
              "    <tr>\n",
              "      <th>22</th>\n",
              "      <td>Mark Casimir Dyniewicz</td>\n",
              "      <td>/personne/fichepersonne_gen_cpersonne=411597.html</td>\n",
              "    </tr>\n",
              "  </tbody>\n",
              "</table>\n",
              "</div>"
            ],
            "text/plain": [
              "                     actor                                               href\n",
              "0      Matthew McConaughey   /personne/fichepersonne_gen_cpersonne=19334.html\n",
              "1            Anne Hathaway   /personne/fichepersonne_gen_cpersonne=65719.html\n",
              "2            Michael Caine    /personne/fichepersonne_gen_cpersonne=2535.html\n",
              "3             John Lithgow    /personne/fichepersonne_gen_cpersonne=5293.html\n",
              "4         Jessica Chastain  /personne/fichepersonne_gen_cpersonne=117304.html\n",
              "5            Casey Affleck    /personne/fichepersonne_gen_cpersonne=1196.html\n",
              "6            Mackenzie Foy  /personne/fichepersonne_gen_cpersonne=487728.html\n",
              "7              Wes Bentley   /personne/fichepersonne_gen_cpersonne=35000.html\n",
              "8              David Gyasi  /personne/fichepersonne_gen_cpersonne=205411.html\n",
              "9        Timothée Chalamet  /personne/fichepersonne_gen_cpersonne=525421.html\n",
              "10            Topher Grace   /personne/fichepersonne_gen_cpersonne=46687.html\n",
              "11           David Oyelowo  /personne/fichepersonne_gen_cpersonne=126702.html\n",
              "12          Collette Wolfe  /personne/fichepersonne_gen_cpersonne=213268.html\n",
              "13             Leah Cairns  /personne/fichepersonne_gen_cpersonne=116250.html\n",
              "14          William Devane   /personne/fichepersonne_gen_cpersonne=24956.html\n",
              "15           Ellen Burstyn     /personne/fichepersonne_gen_cpersonne=699.html\n",
              "16              Matt Damon    /personne/fichepersonne_gen_cpersonne=1192.html\n",
              "17             Elyes Gabel  /personne/fichepersonne_gen_cpersonne=241087.html\n",
              "18     Francis X. McCarthy   /personne/fichepersonne_gen_cpersonne=81745.html\n",
              "19            Andrew Borba  /personne/fichepersonne_gen_cpersonne=116363.html\n",
              "20            Lena Georgas  /personne/fichepersonne_gen_cpersonne=114113.html\n",
              "21            Jeff Hephner   /personne/fichepersonne_gen_cpersonne=61629.html\n",
              "22  Mark Casimir Dyniewicz  /personne/fichepersonne_gen_cpersonne=411597.html"
            ]
          },
          "metadata": {},
          "output_type": "display_data"
        }
      ],
      "source": [
        "# Création d'un DataFrame avec les noms et les liens\n",
        "df_url = pd.DataFrame({\n",
        "    \"actor\": [i.text for i in links],\n",
        "    \"href\": [i[\"href\"] for i in links]\n",
        "})\n",
        "\n",
        "# Affichage du DataFrame\n",
        "display(df_url)"
      ]
    },
    {
      "cell_type": "code",
      "execution_count": 5,
      "metadata": {
        "id": "dyIf_1Ur0VQi"
      },
      "outputs": [
        {
          "name": "stdout",
          "output_type": "stream",
          "text": [
            "https://www.allocine.fr/personne/fichepersonne_gen_cpersonne=525421.html\n"
          ]
        }
      ],
      "source": [
        "# Construction de l'URL complète vers la page de l'acteur\n",
        "url = \"https://www.allocine.fr\" + \"/personne/fichepersonne_gen_cpersonne=525421.html\"\n",
        "\n",
        "# Affichage de l'URL générée pour vérification\n",
        "print(url)"
      ]
    },
    {
      "cell_type": "code",
      "execution_count": 6,
      "metadata": {
        "id": "fNeIIpDP1-u6"
      },
      "outputs": [],
      "source": [
        "# Envoi d'une requête HTTP pour récupérer le contenu de la page de l'acteur\n",
        "html = requests.get(url)"
      ]
    },
    {
      "cell_type": "code",
      "execution_count": 7,
      "metadata": {
        "colab": {
          "base_uri": "https://localhost:8080/"
        },
        "id": "H48imGgG2_55",
        "outputId": "1a8c51ca-d9a8-4e9f-86b2-c0513656aae9"
      },
      "outputs": [
        {
          "name": "stdout",
          "output_type": "stream",
          "text": [
            "<div class=\"meta-body\">\n",
            "<div class=\"meta-body-item\">\n",
            "<span class=\"light\">Métiers </span>\n",
            "<strong>\n",
            "<span class=\"ACrL3BACrlcnNvbm5lL2ZpY2hlcGVyc29ubmUtNTI1NDIxL2ZpbG1vZ3JhcGhpZS8=#actor dark-grey-link\">\n",
            "                                Acteur\n",
            "                            </span>,                                                 </strong>\n",
            "<strong>\n",
            "<span class=\"ACrL3BACrlcnNvbm5lL2ZpY2hlcGVyc29ubmUtNTI1NDIxL2ZpbG1vZ3JhcGhpZS8=#production dark-grey-link\">\n",
            "                                Producteur\n",
            "                            </span>,                                                 </strong>\n",
            "<strong>\n",
            "<span class=\"ACrL3BACrlcnNvbm5lL2ZpY2hlcGVyc29ubmUtNTI1NDIxL2ZpbG1vZ3JhcGhpZS8=#music dark-grey-link\">\n",
            "                                Interprète (chansons du film)\n",
            "                            </span> </strong>\n",
            "</div>\n",
            "<div class=\"meta-body-item\">\n",
            "<span class=\"light\">Nom de naissance </span>\n",
            "<h2 class=\"item\">Timothée Hal Chalamet</h2>\n",
            "</div>\n",
            "<div class=\"meta-body-item\">\n",
            "<span class=\"light\">Nationalités </span>\n",
            "<div class=\"dark-grey\">Français, </div>\n",
            "<div class=\"dark-grey\">Américain</div>\n",
            "</div>\n",
            "<div class=\"meta-body-item\">\n",
            "<span class=\"light\">Naissance </span>\n",
            "<span class=\"ACrL3BACrlcnNvbm5lL2Fubml2ZXJzYWlyZXMvZGF0ZS0xMi0yNy8= dark-grey-link\">\n",
            "                                    27 décembre 1995\n",
            "    \n",
            "                    </span>\n",
            "                                (Hell's Kitchen, New York, État de New York, États-Unis)\n",
            "            </div>\n",
            "<div class=\"meta-body-item\">\n",
            "<span class=\"light\">Age </span>\n",
            "<div class=\"dark-grey\"><strong>29</strong> ans</div>\n",
            "</div>\n",
            "</div>\n"
          ]
        }
      ],
      "source": [
        "# Analyse du contenu HTML avec BeautifulSoup\n",
        "soup = BeautifulSoup(html.text, 'html.parser')\n",
        "\n",
        "# Recherche de la section contenant les informations détaillées sur l'acteur\n",
        "detail = soup.find(\"div\", {\"class\": \"meta-body\"})\n",
        "\n",
        "# Affichage de la section pour vérifier les données extraites\n",
        "print(detail)"
      ]
    },
    {
      "cell_type": "code",
      "execution_count": 8,
      "metadata": {
        "colab": {
          "base_uri": "https://localhost:8080/"
        },
        "id": "CakknjZM3BYW",
        "outputId": "f218529e-b27a-4936-ba6f-a1ef91067e82"
      },
      "outputs": [
        {
          "name": "stdout",
          "output_type": "stream",
          "text": [
            "['Métiers ', '\\n                                Acteur\\n                            ', '\\n                                Producteur\\n                            ', '\\n                                Interprète (chansons du film)\\n                            ', 'Nom de naissance ', 'Nationalités ', 'Naissance ', '\\n                                    27 décembre 1995\\n    \\n                    ', 'Age ']\n"
          ]
        }
      ],
      "source": [
        "# Extraction de tous les textes des balises <span> dans la section \"meta-body\"\n",
        "infos = [detail.find_all(\"span\")[i].text for i in range(len(detail.find_all(\"span\")))]\n",
        "\n",
        "# Affichage des informations collectées pour validation\n",
        "print(infos)"
      ]
    },
    {
      "cell_type": "code",
      "execution_count": 9,
      "metadata": {
        "colab": {
          "base_uri": "https://localhost:8080/"
        },
        "id": "p-f6BXrcyMT3",
        "outputId": "00cad30a-8ca8-4252-eaaa-ca3bf6d38be8"
      },
      "outputs": [
        {
          "name": "stdout",
          "output_type": "stream",
          "text": [
            "['27 décembre 1995']\n"
          ]
        }
      ],
      "source": [
        "# Recherche d'une date spécifique (format : \"JJ mois AAAA\") dans les textes extraits\n",
        "print(re.findall(\"\\d{2}\\s\\w+\\s\\d{4}\", [detail.find_all(\"span\")[i].text for i in range(len(detail.find_all(\"span\")))][7]))"
      ]
    },
    {
      "cell_type": "code",
      "execution_count": 10,
      "metadata": {
        "colab": {
          "base_uri": "https://localhost:8080/",
          "height": 35
        },
        "id": "aBVq-LvUsLts",
        "outputId": "9d521998-9186-45ad-f342-ac924794cf5b"
      },
      "outputs": [
        {
          "name": "stdout",
          "output_type": "stream",
          "text": [
            "27 décembre 1995\n"
          ]
        }
      ],
      "source": [
        "# Initialisation d'une liste pour stocker les dates extraites\n",
        "date = []\n",
        "\n",
        "# Parcours des informations et ajout des dates extraites à la liste\n",
        "for info in infos:\n",
        "    if re.findall(\"\\d{2}\\s\\w+\\s\\d{4}\", info):\n",
        "        # Ajout de la première date trouvée\n",
        "        date.append(re.findall(\"\\d{2}\\s\\w+\\s\\d{4}\", info)[0])\n",
        "\n",
        "# Affichage de la première date trouvée\n",
        "print(date[0])"
      ]
    },
    {
      "cell_type": "code",
      "execution_count": 11,
      "metadata": {
        "id": "kRtjIMEkqSWb"
      },
      "outputs": [],
      "source": [
        "# Fonction pour extraire la date de naissance depuis une page individuelle d'acteur\n",
        "def crawl(url_short):\n",
        "    # Construction de l'URL complète\n",
        "    url = \"https://www.allocine.fr\" + url_short\n",
        "    \n",
        "    # Envoi d'une requête pour récupérer le contenu de la page\n",
        "    html = requests.get(url)\n",
        "    \n",
        "    # Parsing du contenu HTML avec BeautifulSoup\n",
        "    soup = BeautifulSoup(html.text, 'html.parser')\n",
        "    \n",
        "    # Recherche de la section contenant les informations sur l'acteur\n",
        "    detail = soup.find(\"div\", {\"class\": \"meta-body\"})\n",
        "    try:\n",
        "        # Extraction de toutes les informations textuelles de la section\n",
        "        infos = [detail.find_all(\"span\")[i].text for i in range(len(detail.find_all(\"span\")))]\n",
        "        \n",
        "        # Initialisation d'une liste pour stocker les dates trouvées\n",
        "        date = []\n",
        "        \n",
        "        # Recherche et ajout des dates au format \"JJ mois AAAA\" dans la liste\n",
        "        for info in infos:\n",
        "            if re.findall(\"\\d+\\s\\w+\\s\\d{4}\", info):\n",
        "                date.append(re.findall(\"\\d+\\s\\w+\\s\\d{4}\", info)[0])\n",
        "        \n",
        "        # Retourne la première date trouvée (si disponible)\n",
        "        return date[0]\n",
        "    except:\n",
        "        # Gestion des erreurs (pass si aucune date n'est trouvée)\n",
        "        pass"
      ]
    },
    {
      "cell_type": "code",
      "execution_count": 12,
      "metadata": {
        "id": "9sSGLVcAzqQm"
      },
      "outputs": [],
      "source": [
        "# Application de la fonction 'crawl' pour extraire les dates de naissance\n",
        "df_url['date_de_naissance'] = df_url.href.apply(crawl)"
      ]
    },
    {
      "cell_type": "code",
      "execution_count": 13,
      "metadata": {
        "id": "pJh-uhi351Be"
      },
      "outputs": [],
      "source": [
        "def convertir_date(date_str):\n",
        "    # Vérifie si la valeur est nulle\n",
        "    if pd.isna(date_str):\n",
        "        return None\n",
        "\n",
        "    # Dictionnaire pour convertir les mois en français\n",
        "    mois_francais = {\n",
        "        'janvier': 'January',\n",
        "        'février': 'February',\n",
        "        'mars': 'March',\n",
        "        'avril': 'April',\n",
        "        'mai': 'May',\n",
        "        'juin': 'June',\n",
        "        'juillet': 'July',\n",
        "        'août': 'August',\n",
        "        'septembre': 'September',\n",
        "        'octobre': 'October',\n",
        "        'novembre': 'November',\n",
        "        'décembre': 'December'\n",
        "    }\n",
        "\n",
        "    # Conversion du mois français en anglais\n",
        "    for mois_fr, mois_en in mois_francais.items():\n",
        "        if mois_fr in date_str:\n",
        "            date_str = date_str.replace(mois_fr, mois_en)\n",
        "\n",
        "    # Conversion en objet datetime\n",
        "    date_obj = datetime.strptime(date_str, \"%d %B %Y\")\n",
        "\n",
        "    # Retourne la date au format souhaité\n",
        "    return date_obj.strftime(\"%d/%m/%Y\")"
      ]
    },
    {
      "cell_type": "code",
      "execution_count": 14,
      "metadata": {
        "id": "x9TTkQIgLwcx"
      },
      "outputs": [],
      "source": [
        "# Applique la fonction 'convertir_date' pour convertir les dates en format standard\n",
        "df_url['date_de_naissance'] = df_url.date_de_naissance.apply(convertir_date)\n",
        "\n",
        "# Convertit les dates en objets datetime pour faciliter les calculs\n",
        "df_url['date_de_naissance'] = pd.to_datetime(df_url['date_de_naissance'], format='%d/%m/%Y', errors='coerce')"
      ]
    },
    {
      "cell_type": "code",
      "execution_count": 15,
      "metadata": {
        "id": "HnCaJRKnPM47"
      },
      "outputs": [],
      "source": [
        "# Calcule l'âge des acteurs en prenant 2014 comme année de référence\n",
        "df_url['age'] = df_url.date_de_naissance.apply(lambda x: 2014 - x.year)"
      ]
    },
    {
      "cell_type": "code",
      "execution_count": 16,
      "metadata": {
        "colab": {
          "base_uri": "https://localhost:8080/",
          "height": 762
        },
        "id": "zTN7wQ1FN5sE",
        "outputId": "c4ed01e5-76e2-4cba-f7c0-7b0328486ff5"
      },
      "outputs": [
        {
          "data": {
            "text/html": [
              "<div>\n",
              "<style scoped>\n",
              "    .dataframe tbody tr th:only-of-type {\n",
              "        vertical-align: middle;\n",
              "    }\n",
              "\n",
              "    .dataframe tbody tr th {\n",
              "        vertical-align: top;\n",
              "    }\n",
              "\n",
              "    .dataframe thead th {\n",
              "        text-align: right;\n",
              "    }\n",
              "</style>\n",
              "<table border=\"1\" class=\"dataframe\">\n",
              "  <thead>\n",
              "    <tr style=\"text-align: right;\">\n",
              "      <th></th>\n",
              "      <th>actor</th>\n",
              "      <th>href</th>\n",
              "      <th>date_de_naissance</th>\n",
              "      <th>age</th>\n",
              "    </tr>\n",
              "  </thead>\n",
              "  <tbody>\n",
              "    <tr>\n",
              "      <th>0</th>\n",
              "      <td>Matthew McConaughey</td>\n",
              "      <td>/personne/fichepersonne_gen_cpersonne=19334.html</td>\n",
              "      <td>1969-11-04</td>\n",
              "      <td>45.0</td>\n",
              "    </tr>\n",
              "    <tr>\n",
              "      <th>1</th>\n",
              "      <td>Anne Hathaway</td>\n",
              "      <td>/personne/fichepersonne_gen_cpersonne=65719.html</td>\n",
              "      <td>1982-11-12</td>\n",
              "      <td>32.0</td>\n",
              "    </tr>\n",
              "    <tr>\n",
              "      <th>2</th>\n",
              "      <td>Michael Caine</td>\n",
              "      <td>/personne/fichepersonne_gen_cpersonne=2535.html</td>\n",
              "      <td>1933-03-14</td>\n",
              "      <td>81.0</td>\n",
              "    </tr>\n",
              "    <tr>\n",
              "      <th>3</th>\n",
              "      <td>John Lithgow</td>\n",
              "      <td>/personne/fichepersonne_gen_cpersonne=5293.html</td>\n",
              "      <td>1945-10-19</td>\n",
              "      <td>69.0</td>\n",
              "    </tr>\n",
              "    <tr>\n",
              "      <th>4</th>\n",
              "      <td>Jessica Chastain</td>\n",
              "      <td>/personne/fichepersonne_gen_cpersonne=117304.html</td>\n",
              "      <td>1977-03-24</td>\n",
              "      <td>37.0</td>\n",
              "    </tr>\n",
              "    <tr>\n",
              "      <th>5</th>\n",
              "      <td>Casey Affleck</td>\n",
              "      <td>/personne/fichepersonne_gen_cpersonne=1196.html</td>\n",
              "      <td>1975-08-12</td>\n",
              "      <td>39.0</td>\n",
              "    </tr>\n",
              "    <tr>\n",
              "      <th>6</th>\n",
              "      <td>Mackenzie Foy</td>\n",
              "      <td>/personne/fichepersonne_gen_cpersonne=487728.html</td>\n",
              "      <td>2000-11-10</td>\n",
              "      <td>14.0</td>\n",
              "    </tr>\n",
              "    <tr>\n",
              "      <th>7</th>\n",
              "      <td>Wes Bentley</td>\n",
              "      <td>/personne/fichepersonne_gen_cpersonne=35000.html</td>\n",
              "      <td>1978-09-04</td>\n",
              "      <td>36.0</td>\n",
              "    </tr>\n",
              "    <tr>\n",
              "      <th>8</th>\n",
              "      <td>David Gyasi</td>\n",
              "      <td>/personne/fichepersonne_gen_cpersonne=205411.html</td>\n",
              "      <td>1980-01-02</td>\n",
              "      <td>34.0</td>\n",
              "    </tr>\n",
              "    <tr>\n",
              "      <th>9</th>\n",
              "      <td>Timothée Chalamet</td>\n",
              "      <td>/personne/fichepersonne_gen_cpersonne=525421.html</td>\n",
              "      <td>1995-12-27</td>\n",
              "      <td>19.0</td>\n",
              "    </tr>\n",
              "    <tr>\n",
              "      <th>10</th>\n",
              "      <td>Topher Grace</td>\n",
              "      <td>/personne/fichepersonne_gen_cpersonne=46687.html</td>\n",
              "      <td>1978-07-12</td>\n",
              "      <td>36.0</td>\n",
              "    </tr>\n",
              "    <tr>\n",
              "      <th>11</th>\n",
              "      <td>David Oyelowo</td>\n",
              "      <td>/personne/fichepersonne_gen_cpersonne=126702.html</td>\n",
              "      <td>1976-04-01</td>\n",
              "      <td>38.0</td>\n",
              "    </tr>\n",
              "    <tr>\n",
              "      <th>12</th>\n",
              "      <td>Collette Wolfe</td>\n",
              "      <td>/personne/fichepersonne_gen_cpersonne=213268.html</td>\n",
              "      <td>NaT</td>\n",
              "      <td>NaN</td>\n",
              "    </tr>\n",
              "    <tr>\n",
              "      <th>13</th>\n",
              "      <td>Leah Cairns</td>\n",
              "      <td>/personne/fichepersonne_gen_cpersonne=116250.html</td>\n",
              "      <td>1974-06-02</td>\n",
              "      <td>40.0</td>\n",
              "    </tr>\n",
              "    <tr>\n",
              "      <th>14</th>\n",
              "      <td>William Devane</td>\n",
              "      <td>/personne/fichepersonne_gen_cpersonne=24956.html</td>\n",
              "      <td>1937-09-05</td>\n",
              "      <td>77.0</td>\n",
              "    </tr>\n",
              "    <tr>\n",
              "      <th>15</th>\n",
              "      <td>Ellen Burstyn</td>\n",
              "      <td>/personne/fichepersonne_gen_cpersonne=699.html</td>\n",
              "      <td>1932-12-07</td>\n",
              "      <td>82.0</td>\n",
              "    </tr>\n",
              "    <tr>\n",
              "      <th>16</th>\n",
              "      <td>Matt Damon</td>\n",
              "      <td>/personne/fichepersonne_gen_cpersonne=1192.html</td>\n",
              "      <td>1970-10-08</td>\n",
              "      <td>44.0</td>\n",
              "    </tr>\n",
              "    <tr>\n",
              "      <th>17</th>\n",
              "      <td>Elyes Gabel</td>\n",
              "      <td>/personne/fichepersonne_gen_cpersonne=241087.html</td>\n",
              "      <td>1983-05-08</td>\n",
              "      <td>31.0</td>\n",
              "    </tr>\n",
              "    <tr>\n",
              "      <th>18</th>\n",
              "      <td>Francis X. McCarthy</td>\n",
              "      <td>/personne/fichepersonne_gen_cpersonne=81745.html</td>\n",
              "      <td>NaT</td>\n",
              "      <td>NaN</td>\n",
              "    </tr>\n",
              "    <tr>\n",
              "      <th>19</th>\n",
              "      <td>Andrew Borba</td>\n",
              "      <td>/personne/fichepersonne_gen_cpersonne=116363.html</td>\n",
              "      <td>NaT</td>\n",
              "      <td>NaN</td>\n",
              "    </tr>\n",
              "    <tr>\n",
              "      <th>20</th>\n",
              "      <td>Lena Georgas</td>\n",
              "      <td>/personne/fichepersonne_gen_cpersonne=114113.html</td>\n",
              "      <td>NaT</td>\n",
              "      <td>NaN</td>\n",
              "    </tr>\n",
              "    <tr>\n",
              "      <th>21</th>\n",
              "      <td>Jeff Hephner</td>\n",
              "      <td>/personne/fichepersonne_gen_cpersonne=61629.html</td>\n",
              "      <td>1975-06-22</td>\n",
              "      <td>39.0</td>\n",
              "    </tr>\n",
              "    <tr>\n",
              "      <th>22</th>\n",
              "      <td>Mark Casimir Dyniewicz</td>\n",
              "      <td>/personne/fichepersonne_gen_cpersonne=411597.html</td>\n",
              "      <td>NaT</td>\n",
              "      <td>NaN</td>\n",
              "    </tr>\n",
              "  </tbody>\n",
              "</table>\n",
              "</div>"
            ],
            "text/plain": [
              "                     actor                                               href  \\\n",
              "0      Matthew McConaughey   /personne/fichepersonne_gen_cpersonne=19334.html   \n",
              "1            Anne Hathaway   /personne/fichepersonne_gen_cpersonne=65719.html   \n",
              "2            Michael Caine    /personne/fichepersonne_gen_cpersonne=2535.html   \n",
              "3             John Lithgow    /personne/fichepersonne_gen_cpersonne=5293.html   \n",
              "4         Jessica Chastain  /personne/fichepersonne_gen_cpersonne=117304.html   \n",
              "5            Casey Affleck    /personne/fichepersonne_gen_cpersonne=1196.html   \n",
              "6            Mackenzie Foy  /personne/fichepersonne_gen_cpersonne=487728.html   \n",
              "7              Wes Bentley   /personne/fichepersonne_gen_cpersonne=35000.html   \n",
              "8              David Gyasi  /personne/fichepersonne_gen_cpersonne=205411.html   \n",
              "9        Timothée Chalamet  /personne/fichepersonne_gen_cpersonne=525421.html   \n",
              "10            Topher Grace   /personne/fichepersonne_gen_cpersonne=46687.html   \n",
              "11           David Oyelowo  /personne/fichepersonne_gen_cpersonne=126702.html   \n",
              "12          Collette Wolfe  /personne/fichepersonne_gen_cpersonne=213268.html   \n",
              "13             Leah Cairns  /personne/fichepersonne_gen_cpersonne=116250.html   \n",
              "14          William Devane   /personne/fichepersonne_gen_cpersonne=24956.html   \n",
              "15           Ellen Burstyn     /personne/fichepersonne_gen_cpersonne=699.html   \n",
              "16              Matt Damon    /personne/fichepersonne_gen_cpersonne=1192.html   \n",
              "17             Elyes Gabel  /personne/fichepersonne_gen_cpersonne=241087.html   \n",
              "18     Francis X. McCarthy   /personne/fichepersonne_gen_cpersonne=81745.html   \n",
              "19            Andrew Borba  /personne/fichepersonne_gen_cpersonne=116363.html   \n",
              "20            Lena Georgas  /personne/fichepersonne_gen_cpersonne=114113.html   \n",
              "21            Jeff Hephner   /personne/fichepersonne_gen_cpersonne=61629.html   \n",
              "22  Mark Casimir Dyniewicz  /personne/fichepersonne_gen_cpersonne=411597.html   \n",
              "\n",
              "   date_de_naissance   age  \n",
              "0         1969-11-04  45.0  \n",
              "1         1982-11-12  32.0  \n",
              "2         1933-03-14  81.0  \n",
              "3         1945-10-19  69.0  \n",
              "4         1977-03-24  37.0  \n",
              "5         1975-08-12  39.0  \n",
              "6         2000-11-10  14.0  \n",
              "7         1978-09-04  36.0  \n",
              "8         1980-01-02  34.0  \n",
              "9         1995-12-27  19.0  \n",
              "10        1978-07-12  36.0  \n",
              "11        1976-04-01  38.0  \n",
              "12               NaT   NaN  \n",
              "13        1974-06-02  40.0  \n",
              "14        1937-09-05  77.0  \n",
              "15        1932-12-07  82.0  \n",
              "16        1970-10-08  44.0  \n",
              "17        1983-05-08  31.0  \n",
              "18               NaT   NaN  \n",
              "19               NaT   NaN  \n",
              "20               NaT   NaN  \n",
              "21        1975-06-22  39.0  \n",
              "22               NaT   NaN  "
            ]
          },
          "metadata": {},
          "output_type": "display_data"
        }
      ],
      "source": [
        "display(df_url)"
      ]
    },
    {
      "cell_type": "code",
      "execution_count": 19,
      "metadata": {
        "colab": {
          "base_uri": "https://localhost:8080/"
        },
        "id": "9wGyNWRCORxS",
        "outputId": "93c82068-779b-4142-9de2-70f5757e1423"
      },
      "outputs": [
        {
          "name": "stdout",
          "output_type": "stream",
          "text": [
            "44.06\n"
          ]
        }
      ],
      "source": [
        "# Calcule la moyenne de l'âge des acteurs dans le DataFrame\n",
        "print(round(df_url.age.mean(), 2))"
      ]
    },
    {
      "cell_type": "code",
      "execution_count": null,
      "metadata": {
        "id": "j15JPvVaRkza"
      },
      "outputs": [],
      "source": []
    }
  ],
  "metadata": {
    "colab": {
      "provenance": []
    },
    "kernelspec": {
      "display_name": "wcs",
      "language": "python",
      "name": "python3"
    },
    "language_info": {
      "codemirror_mode": {
        "name": "ipython",
        "version": 3
      },
      "file_extension": ".py",
      "mimetype": "text/x-python",
      "name": "python",
      "nbconvert_exporter": "python",
      "pygments_lexer": "ipython3",
      "version": "3.11.11"
    }
  },
  "nbformat": 4,
  "nbformat_minor": 0
}
